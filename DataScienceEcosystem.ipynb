{
  "nbformat": 4,
  "nbformat_minor": 0,
  "metadata": {
    "colab": {
      "provenance": []
    },
    "kernelspec": {
      "name": "python3",
      "display_name": "Python 3"
    },
    "language_info": {
      "name": "python"
    }
  },
  "cells": [
    {
      "cell_type": "markdown",
      "source": [
        "# Data Science Tools and Ecosystem"
      ],
      "metadata": {
        "id": "2fCk8Cz9Sp3Z"
      }
    },
    {
      "cell_type": "markdown",
      "source": [
        "Introduction: In this notebook, Data Science Tools and Ecosystem are summarized."
      ],
      "metadata": {
        "id": "T5sdbfeKT6AF"
      }
    },
    {
      "cell_type": "markdown",
      "source": [
        "**Objectives:**\n",
        "* List popular languages for Data Science\n",
        "* List popular tools for Data Science\n",
        "* List common libraries used in Data Science\n",
        "* Demonstrate ability to use markdown language in a Jupyter notebook\n",
        "* Demonstrate ability to write simple arithmetic expressions in a Jupyter notebook\n",
        "* Demonstrate ability to create basic formatting of text in markdown language, such as numbered lists, bullets, and tables.\n",
        "\n"
      ],
      "metadata": {
        "id": "Y6FRFUNZerdG"
      }
    },
    {
      "cell_type": "markdown",
      "source": [
        "Some of the popular languages that Data Scientists use are:\n",
        "\n",
        "1.   Python\n",
        "2.   R\n",
        "3.   MATLAB\n",
        "\n",
        "\n",
        "\n",
        "\n",
        "\n",
        "\n"
      ],
      "metadata": {
        "id": "by6hfsHUUMaM"
      }
    },
    {
      "cell_type": "markdown",
      "source": [
        "Some of the commonly used libraries used by Data Scientists include:\n",
        "\n",
        "\n",
        "1.   Pandas\n",
        "2.   NumPy\n",
        "3.   Matplotlib\n",
        "4.   SciPy\n",
        "\n",
        "\n",
        "\n"
      ],
      "metadata": {
        "id": "p1fwf9I6WgRT"
      }
    },
    {
      "cell_type": "markdown",
      "source": [
        "\n",
        "\n",
        "```\n",
        "# This is formatted as code\n",
        "```\n",
        "|Data Science Tools|\n",
        "|----|\n",
        "|Apache Spark|\n",
        "|Tensor Flow|\n",
        "|Weka|\n",
        "\n"
      ],
      "metadata": {
        "id": "25VVl332Xum4"
      }
    },
    {
      "cell_type": "markdown",
      "source": [
        "Below are a few examples of evaluating arithmetic expressions in Python."
      ],
      "metadata": {
        "id": "IPDgLLmibb4J"
      }
    },
    {
      "cell_type": "code",
      "source": [
        "# This is a simple arithmetic expression to multiply then add integers.\n",
        "(3*4)+5"
      ],
      "metadata": {
        "colab": {
          "base_uri": "https://localhost:8080/"
        },
        "id": "OClYSxtHboCy",
        "outputId": "b0389e3d-ec4c-4d9e-eb6f-1368ff248f6b"
      },
      "execution_count": 10,
      "outputs": [
        {
          "output_type": "execute_result",
          "data": {
            "text/plain": [
              "17"
            ]
          },
          "metadata": {},
          "execution_count": 10
        }
      ]
    },
    {
      "cell_type": "code",
      "source": [
        "# This will convert 200 minutes to hours by dividing by 60\n",
        "200/60"
      ],
      "metadata": {
        "colab": {
          "base_uri": "https://localhost:8080/"
        },
        "id": "m0NudlzVeTyh",
        "outputId": "e1adf9c9-109b-4c0c-d70b-faec882788ca"
      },
      "execution_count": 11,
      "outputs": [
        {
          "output_type": "execute_result",
          "data": {
            "text/plain": [
              "3.3333333333333335"
            ]
          },
          "metadata": {},
          "execution_count": 11
        }
      ]
    },
    {
      "cell_type": "markdown",
      "source": [
        "## Author\n",
        "Brian Pidduck"
      ],
      "metadata": {
        "id": "xPZQD-otgPw8"
      }
    }
  ]
}